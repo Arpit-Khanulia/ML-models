{
  "nbformat": 4,
  "nbformat_minor": 0,
  "metadata": {
    "colab": {
      "name": "slr1_canada.ipynb",
      "provenance": [],
      "collapsed_sections": []
    },
    "kernelspec": {
      "name": "python3",
      "display_name": "Python 3"
    },
    "language_info": {
      "name": "python"
    }
  },
  "cells": [
    {
      "cell_type": "code",
      "metadata": {
        "id": "V8pSkpGTse33"
      },
      "source": [
        "import numpy as np\n",
        "import pandas as pd\n",
        "from sklearn import linear_model\n",
        "import  matplotlib.pyplot as plt"
      ],
      "execution_count": null,
      "outputs": []
    },
    {
      "cell_type": "code",
      "metadata": {
        "id": "n_K3Dhjy5cRh",
        "colab": {
          "base_uri": "https://localhost:8080/"
        },
        "outputId": "48bf0987-32ad-4f80-8fa8-6a569829425a"
      },
      "source": [
        "from google.colab import drive\n",
        "drive.mount('/content/drive')"
      ],
      "execution_count": null,
      "outputs": [
        {
          "output_type": "stream",
          "text": [
            "Drive already mounted at /content/drive; to attempt to forcibly remount, call drive.mount(\"/content/drive\", force_remount=True).\n"
          ],
          "name": "stdout"
        }
      ]
    },
    {
      "cell_type": "code",
      "metadata": {
        "colab": {
          "base_uri": "https://localhost:8080/",
          "height": 1000
        },
        "id": "u52CWQXCsjVv",
        "outputId": "1dc571e4-da07-480b-ed6b-64ecb4d7bbc1"
      },
      "source": [
        "df=pd.read_csv(\"/content/canada.csv\")\n",
        "df"
      ],
      "execution_count": null,
      "outputs": [
        {
          "output_type": "execute_result",
          "data": {
            "text/html": [
              "<div>\n",
              "<style scoped>\n",
              "    .dataframe tbody tr th:only-of-type {\n",
              "        vertical-align: middle;\n",
              "    }\n",
              "\n",
              "    .dataframe tbody tr th {\n",
              "        vertical-align: top;\n",
              "    }\n",
              "\n",
              "    .dataframe thead th {\n",
              "        text-align: right;\n",
              "    }\n",
              "</style>\n",
              "<table border=\"1\" class=\"dataframe\">\n",
              "  <thead>\n",
              "    <tr style=\"text-align: right;\">\n",
              "      <th></th>\n",
              "      <th>year</th>\n",
              "      <th>percapitaincome</th>\n",
              "    </tr>\n",
              "  </thead>\n",
              "  <tbody>\n",
              "    <tr>\n",
              "      <th>0</th>\n",
              "      <td>1970</td>\n",
              "      <td>3399.299037</td>\n",
              "    </tr>\n",
              "    <tr>\n",
              "      <th>1</th>\n",
              "      <td>1971</td>\n",
              "      <td>3768.297935</td>\n",
              "    </tr>\n",
              "    <tr>\n",
              "      <th>2</th>\n",
              "      <td>1972</td>\n",
              "      <td>4251.175484</td>\n",
              "    </tr>\n",
              "    <tr>\n",
              "      <th>3</th>\n",
              "      <td>1973</td>\n",
              "      <td>4804.463248</td>\n",
              "    </tr>\n",
              "    <tr>\n",
              "      <th>4</th>\n",
              "      <td>1974</td>\n",
              "      <td>5576.514583</td>\n",
              "    </tr>\n",
              "    <tr>\n",
              "      <th>5</th>\n",
              "      <td>1975</td>\n",
              "      <td>5998.144346</td>\n",
              "    </tr>\n",
              "    <tr>\n",
              "      <th>6</th>\n",
              "      <td>1976</td>\n",
              "      <td>7062.131392</td>\n",
              "    </tr>\n",
              "    <tr>\n",
              "      <th>7</th>\n",
              "      <td>1977</td>\n",
              "      <td>7100.126170</td>\n",
              "    </tr>\n",
              "    <tr>\n",
              "      <th>8</th>\n",
              "      <td>1978</td>\n",
              "      <td>7247.967035</td>\n",
              "    </tr>\n",
              "    <tr>\n",
              "      <th>9</th>\n",
              "      <td>1979</td>\n",
              "      <td>7602.912681</td>\n",
              "    </tr>\n",
              "    <tr>\n",
              "      <th>10</th>\n",
              "      <td>1980</td>\n",
              "      <td>8355.968120</td>\n",
              "    </tr>\n",
              "    <tr>\n",
              "      <th>11</th>\n",
              "      <td>1981</td>\n",
              "      <td>9434.390652</td>\n",
              "    </tr>\n",
              "    <tr>\n",
              "      <th>12</th>\n",
              "      <td>1982</td>\n",
              "      <td>9619.438377</td>\n",
              "    </tr>\n",
              "    <tr>\n",
              "      <th>13</th>\n",
              "      <td>1983</td>\n",
              "      <td>10416.536590</td>\n",
              "    </tr>\n",
              "    <tr>\n",
              "      <th>14</th>\n",
              "      <td>1984</td>\n",
              "      <td>10790.328720</td>\n",
              "    </tr>\n",
              "    <tr>\n",
              "      <th>15</th>\n",
              "      <td>1985</td>\n",
              "      <td>11018.955850</td>\n",
              "    </tr>\n",
              "    <tr>\n",
              "      <th>16</th>\n",
              "      <td>1986</td>\n",
              "      <td>11482.891530</td>\n",
              "    </tr>\n",
              "    <tr>\n",
              "      <th>17</th>\n",
              "      <td>1987</td>\n",
              "      <td>12974.806620</td>\n",
              "    </tr>\n",
              "    <tr>\n",
              "      <th>18</th>\n",
              "      <td>1988</td>\n",
              "      <td>15080.283450</td>\n",
              "    </tr>\n",
              "    <tr>\n",
              "      <th>19</th>\n",
              "      <td>1989</td>\n",
              "      <td>16426.725480</td>\n",
              "    </tr>\n",
              "    <tr>\n",
              "      <th>20</th>\n",
              "      <td>1990</td>\n",
              "      <td>16838.673200</td>\n",
              "    </tr>\n",
              "    <tr>\n",
              "      <th>21</th>\n",
              "      <td>1991</td>\n",
              "      <td>17266.097690</td>\n",
              "    </tr>\n",
              "    <tr>\n",
              "      <th>22</th>\n",
              "      <td>1992</td>\n",
              "      <td>16412.083090</td>\n",
              "    </tr>\n",
              "    <tr>\n",
              "      <th>23</th>\n",
              "      <td>1993</td>\n",
              "      <td>15875.586730</td>\n",
              "    </tr>\n",
              "    <tr>\n",
              "      <th>24</th>\n",
              "      <td>1994</td>\n",
              "      <td>15755.820270</td>\n",
              "    </tr>\n",
              "    <tr>\n",
              "      <th>25</th>\n",
              "      <td>1995</td>\n",
              "      <td>16369.317250</td>\n",
              "    </tr>\n",
              "    <tr>\n",
              "      <th>26</th>\n",
              "      <td>1996</td>\n",
              "      <td>16699.826680</td>\n",
              "    </tr>\n",
              "    <tr>\n",
              "      <th>27</th>\n",
              "      <td>1997</td>\n",
              "      <td>17310.757750</td>\n",
              "    </tr>\n",
              "    <tr>\n",
              "      <th>28</th>\n",
              "      <td>1998</td>\n",
              "      <td>16622.671870</td>\n",
              "    </tr>\n",
              "    <tr>\n",
              "      <th>29</th>\n",
              "      <td>1999</td>\n",
              "      <td>17581.024140</td>\n",
              "    </tr>\n",
              "    <tr>\n",
              "      <th>30</th>\n",
              "      <td>2000</td>\n",
              "      <td>18987.382410</td>\n",
              "    </tr>\n",
              "    <tr>\n",
              "      <th>31</th>\n",
              "      <td>2001</td>\n",
              "      <td>18601.397240</td>\n",
              "    </tr>\n",
              "    <tr>\n",
              "      <th>32</th>\n",
              "      <td>2002</td>\n",
              "      <td>19232.175560</td>\n",
              "    </tr>\n",
              "    <tr>\n",
              "      <th>33</th>\n",
              "      <td>2003</td>\n",
              "      <td>22739.426280</td>\n",
              "    </tr>\n",
              "    <tr>\n",
              "      <th>34</th>\n",
              "      <td>2004</td>\n",
              "      <td>25719.147150</td>\n",
              "    </tr>\n",
              "    <tr>\n",
              "      <th>35</th>\n",
              "      <td>2005</td>\n",
              "      <td>29198.055690</td>\n",
              "    </tr>\n",
              "    <tr>\n",
              "      <th>36</th>\n",
              "      <td>2006</td>\n",
              "      <td>32738.262900</td>\n",
              "    </tr>\n",
              "    <tr>\n",
              "      <th>37</th>\n",
              "      <td>2007</td>\n",
              "      <td>36144.481220</td>\n",
              "    </tr>\n",
              "    <tr>\n",
              "      <th>38</th>\n",
              "      <td>2008</td>\n",
              "      <td>37446.486090</td>\n",
              "    </tr>\n",
              "    <tr>\n",
              "      <th>39</th>\n",
              "      <td>2009</td>\n",
              "      <td>32755.176820</td>\n",
              "    </tr>\n",
              "    <tr>\n",
              "      <th>40</th>\n",
              "      <td>2010</td>\n",
              "      <td>38420.522890</td>\n",
              "    </tr>\n",
              "    <tr>\n",
              "      <th>41</th>\n",
              "      <td>2011</td>\n",
              "      <td>42334.711210</td>\n",
              "    </tr>\n",
              "    <tr>\n",
              "      <th>42</th>\n",
              "      <td>2012</td>\n",
              "      <td>42665.255970</td>\n",
              "    </tr>\n",
              "    <tr>\n",
              "      <th>43</th>\n",
              "      <td>2013</td>\n",
              "      <td>42676.468370</td>\n",
              "    </tr>\n",
              "    <tr>\n",
              "      <th>44</th>\n",
              "      <td>2014</td>\n",
              "      <td>41039.893600</td>\n",
              "    </tr>\n",
              "    <tr>\n",
              "      <th>45</th>\n",
              "      <td>2015</td>\n",
              "      <td>35175.188980</td>\n",
              "    </tr>\n",
              "    <tr>\n",
              "      <th>46</th>\n",
              "      <td>2016</td>\n",
              "      <td>34229.193630</td>\n",
              "    </tr>\n",
              "  </tbody>\n",
              "</table>\n",
              "</div>"
            ],
            "text/plain": [
              "    year  percapitaincome\n",
              "0   1970      3399.299037\n",
              "1   1971      3768.297935\n",
              "2   1972      4251.175484\n",
              "3   1973      4804.463248\n",
              "4   1974      5576.514583\n",
              "5   1975      5998.144346\n",
              "6   1976      7062.131392\n",
              "7   1977      7100.126170\n",
              "8   1978      7247.967035\n",
              "9   1979      7602.912681\n",
              "10  1980      8355.968120\n",
              "11  1981      9434.390652\n",
              "12  1982      9619.438377\n",
              "13  1983     10416.536590\n",
              "14  1984     10790.328720\n",
              "15  1985     11018.955850\n",
              "16  1986     11482.891530\n",
              "17  1987     12974.806620\n",
              "18  1988     15080.283450\n",
              "19  1989     16426.725480\n",
              "20  1990     16838.673200\n",
              "21  1991     17266.097690\n",
              "22  1992     16412.083090\n",
              "23  1993     15875.586730\n",
              "24  1994     15755.820270\n",
              "25  1995     16369.317250\n",
              "26  1996     16699.826680\n",
              "27  1997     17310.757750\n",
              "28  1998     16622.671870\n",
              "29  1999     17581.024140\n",
              "30  2000     18987.382410\n",
              "31  2001     18601.397240\n",
              "32  2002     19232.175560\n",
              "33  2003     22739.426280\n",
              "34  2004     25719.147150\n",
              "35  2005     29198.055690\n",
              "36  2006     32738.262900\n",
              "37  2007     36144.481220\n",
              "38  2008     37446.486090\n",
              "39  2009     32755.176820\n",
              "40  2010     38420.522890\n",
              "41  2011     42334.711210\n",
              "42  2012     42665.255970\n",
              "43  2013     42676.468370\n",
              "44  2014     41039.893600\n",
              "45  2015     35175.188980\n",
              "46  2016     34229.193630"
            ]
          },
          "metadata": {
            "tags": []
          },
          "execution_count": 28
        }
      ]
    },
    {
      "cell_type": "code",
      "metadata": {
        "colab": {
          "base_uri": "https://localhost:8080/"
        },
        "id": "TKgeADl6waHY",
        "outputId": "115454c6-b805-44b8-bc66-d0bd24dd3aa4"
      },
      "source": [
        "df.keys()"
      ],
      "execution_count": null,
      "outputs": [
        {
          "output_type": "execute_result",
          "data": {
            "text/plain": [
              "Index(['year', 'percapitaincome'], dtype='object')"
            ]
          },
          "metadata": {
            "tags": []
          },
          "execution_count": 29
        }
      ]
    },
    {
      "cell_type": "code",
      "metadata": {
        "id": "CUsYgMgrsjoU",
        "colab": {
          "base_uri": "https://localhost:8080/",
          "height": 282
        },
        "outputId": "55db2924-5960-4151-cbbe-d2611991f12b"
      },
      "source": [
        "\n",
        "# plt.xlabel('year')\n",
        "# plt.ylabel('per capita income(US$)')\n",
        "plt.scatter(df.year,df.percapitaincome,color='red')\n"
      ],
      "execution_count": null,
      "outputs": [
        {
          "output_type": "execute_result",
          "data": {
            "text/plain": [
              "<matplotlib.collections.PathCollection at 0x7fd3c142dd50>"
            ]
          },
          "metadata": {
            "tags": []
          },
          "execution_count": 40
        },
        {
          "output_type": "display_data",
          "data": {
            "image/png": "[encoded data removed]",
            "text/plain": [
              "<Figure size 432x288 with 1 Axes>"
            ]
          },
          "metadata": {
            "tags": [],
            "needs_background": "light"
          }
        }
      ]
    },
    {
      "cell_type": "code",
      "metadata": {
        "colab": {
          "base_uri": "https://localhost:8080/",
          "height": 1000
        },
        "id": "GdIVOU-2zsYW",
        "outputId": "ff71fd74-ee50-4a51-c891-6ca4653e5901"
      },
      "source": [
        "df1=df.drop('percapitaincome',axis='columns')\n",
        "df1"
      ],
      "execution_count": null,
      "outputs": [
        {
          "output_type": "execute_result",
          "data": {
            "text/html": [
              "<div>\n",
              "<style scoped>\n",
              "    .dataframe tbody tr th:only-of-type {\n",
              "        vertical-align: middle;\n",
              "    }\n",
              "\n",
              "    .dataframe tbody tr th {\n",
              "        vertical-align: top;\n",
              "    }\n",
              "\n",
              "    .dataframe thead th {\n",
              "        text-align: right;\n",
              "    }\n",
              "</style>\n",
              "<table border=\"1\" class=\"dataframe\">\n",
              "  <thead>\n",
              "    <tr style=\"text-align: right;\">\n",
              "      <th></th>\n",
              "      <th>year</th>\n",
              "    </tr>\n",
              "  </thead>\n",
              "  <tbody>\n",
              "    <tr>\n",
              "      <th>0</th>\n",
              "      <td>1970</td>\n",
              "    </tr>\n",
              "    <tr>\n",
              "      <th>1</th>\n",
              "      <td>1971</td>\n",
              "    </tr>\n",
              "    <tr>\n",
              "      <th>2</th>\n",
              "      <td>1972</td>\n",
              "    </tr>\n",
              "    <tr>\n",
              "      <th>3</th>\n",
              "      <td>1973</td>\n",
              "    </tr>\n",
              "    <tr>\n",
              "      <th>4</th>\n",
              "      <td>1974</td>\n",
              "    </tr>\n",
              "    <tr>\n",
              "      <th>5</th>\n",
              "      <td>1975</td>\n",
              "    </tr>\n",
              "    <tr>\n",
              "      <th>6</th>\n",
              "      <td>1976</td>\n",
              "    </tr>\n",
              "    <tr>\n",
              "      <th>7</th>\n",
              "      <td>1977</td>\n",
              "    </tr>\n",
              "    <tr>\n",
              "      <th>8</th>\n",
              "      <td>1978</td>\n",
              "    </tr>\n",
              "    <tr>\n",
              "      <th>9</th>\n",
              "      <td>1979</td>\n",
              "    </tr>\n",
              "    <tr>\n",
              "      <th>10</th>\n",
              "      <td>1980</td>\n",
              "    </tr>\n",
              "    <tr>\n",
              "      <th>11</th>\n",
              "      <td>1981</td>\n",
              "    </tr>\n",
              "    <tr>\n",
              "      <th>12</th>\n",
              "      <td>1982</td>\n",
              "    </tr>\n",
              "    <tr>\n",
              "      <th>13</th>\n",
              "      <td>1983</td>\n",
              "    </tr>\n",
              "    <tr>\n",
              "      <th>14</th>\n",
              "      <td>1984</td>\n",
              "    </tr>\n",
              "    <tr>\n",
              "      <th>15</th>\n",
              "      <td>1985</td>\n",
              "    </tr>\n",
              "    <tr>\n",
              "      <th>16</th>\n",
              "      <td>1986</td>\n",
              "    </tr>\n",
              "    <tr>\n",
              "      <th>17</th>\n",
              "      <td>1987</td>\n",
              "    </tr>\n",
              "    <tr>\n",
              "      <th>18</th>\n",
              "      <td>1988</td>\n",
              "    </tr>\n",
              "    <tr>\n",
              "      <th>19</th>\n",
              "      <td>1989</td>\n",
              "    </tr>\n",
              "    <tr>\n",
              "      <th>20</th>\n",
              "      <td>1990</td>\n",
              "    </tr>\n",
              "    <tr>\n",
              "      <th>21</th>\n",
              "      <td>1991</td>\n",
              "    </tr>\n",
              "    <tr>\n",
              "      <th>22</th>\n",
              "      <td>1992</td>\n",
              "    </tr>\n",
              "    <tr>\n",
              "      <th>23</th>\n",
              "      <td>1993</td>\n",
              "    </tr>\n",
              "    <tr>\n",
              "      <th>24</th>\n",
              "      <td>1994</td>\n",
              "    </tr>\n",
              "    <tr>\n",
              "      <th>25</th>\n",
              "      <td>1995</td>\n",
              "    </tr>\n",
              "    <tr>\n",
              "      <th>26</th>\n",
              "      <td>1996</td>\n",
              "    </tr>\n",
              "    <tr>\n",
              "      <th>27</th>\n",
              "      <td>1997</td>\n",
              "    </tr>\n",
              "    <tr>\n",
              "      <th>28</th>\n",
              "      <td>1998</td>\n",
              "    </tr>\n",
              "    <tr>\n",
              "      <th>29</th>\n",
              "      <td>1999</td>\n",
              "    </tr>\n",
              "    <tr>\n",
              "      <th>30</th>\n",
              "      <td>2000</td>\n",
              "    </tr>\n",
              "    <tr>\n",
              "      <th>31</th>\n",
              "      <td>2001</td>\n",
              "    </tr>\n",
              "    <tr>\n",
              "      <th>32</th>\n",
              "      <td>2002</td>\n",
              "    </tr>\n",
              "    <tr>\n",
              "      <th>33</th>\n",
              "      <td>2003</td>\n",
              "    </tr>\n",
              "    <tr>\n",
              "      <th>34</th>\n",
              "      <td>2004</td>\n",
              "    </tr>\n",
              "    <tr>\n",
              "      <th>35</th>\n",
              "      <td>2005</td>\n",
              "    </tr>\n",
              "    <tr>\n",
              "      <th>36</th>\n",
              "      <td>2006</td>\n",
              "    </tr>\n",
              "    <tr>\n",
              "      <th>37</th>\n",
              "      <td>2007</td>\n",
              "    </tr>\n",
              "    <tr>\n",
              "      <th>38</th>\n",
              "      <td>2008</td>\n",
              "    </tr>\n",
              "    <tr>\n",
              "      <th>39</th>\n",
              "      <td>2009</td>\n",
              "    </tr>\n",
              "    <tr>\n",
              "      <th>40</th>\n",
              "      <td>2010</td>\n",
              "    </tr>\n",
              "    <tr>\n",
              "      <th>41</th>\n",
              "      <td>2011</td>\n",
              "    </tr>\n",
              "    <tr>\n",
              "      <th>42</th>\n",
              "      <td>2012</td>\n",
              "    </tr>\n",
              "    <tr>\n",
              "      <th>43</th>\n",
              "      <td>2013</td>\n",
              "    </tr>\n",
              "    <tr>\n",
              "      <th>44</th>\n",
              "      <td>2014</td>\n",
              "    </tr>\n",
              "    <tr>\n",
              "      <th>45</th>\n",
              "      <td>2015</td>\n",
              "    </tr>\n",
              "    <tr>\n",
              "      <th>46</th>\n",
              "      <td>2016</td>\n",
              "    </tr>\n",
              "  </tbody>\n",
              "</table>\n",
              "</div>"
            ],
            "text/plain": [
              "    year\n",
              "0   1970\n",
              "1   1971\n",
              "2   1972\n",
              "3   1973\n",
              "4   1974\n",
              "5   1975\n",
              "6   1976\n",
              "7   1977\n",
              "8   1978\n",
              "9   1979\n",
              "10  1980\n",
              "11  1981\n",
              "12  1982\n",
              "13  1983\n",
              "14  1984\n",
              "15  1985\n",
              "16  1986\n",
              "17  1987\n",
              "18  1988\n",
              "19  1989\n",
              "20  1990\n",
              "21  1991\n",
              "22  1992\n",
              "23  1993\n",
              "24  1994\n",
              "25  1995\n",
              "26  1996\n",
              "27  1997\n",
              "28  1998\n",
              "29  1999\n",
              "30  2000\n",
              "31  2001\n",
              "32  2002\n",
              "33  2003\n",
              "34  2004\n",
              "35  2005\n",
              "36  2006\n",
              "37  2007\n",
              "38  2008\n",
              "39  2009\n",
              "40  2010\n",
              "41  2011\n",
              "42  2012\n",
              "43  2013\n",
              "44  2014\n",
              "45  2015\n",
              "46  2016"
            ]
          },
          "metadata": {
            "tags": []
          },
          "execution_count": 32
        }
      ]
    },
    {
      "cell_type": "code",
      "metadata": {
        "colab": {
          "base_uri": "https://localhost:8080/"
        },
        "id": "6DUOYh5Fzsa-",
        "outputId": "3cb338cf-99da-44a8-9c9e-e91c0ead4627"
      },
      "source": [
        "df2=df.percapitaincome\n",
        "df2"
      ],
      "execution_count": null,
      "outputs": [
        {
          "output_type": "execute_result",
          "data": {
            "text/plain": [
              "0      3399.299037\n",
              "1      3768.297935\n",
              "2      4251.175484\n",
              "3      4804.463248\n",
              "4      5576.514583\n",
              "5      5998.144346\n",
              "6      7062.131392\n",
              "7      7100.126170\n",
              "8      7247.967035\n",
              "9      7602.912681\n",
              "10     8355.968120\n",
              "11     9434.390652\n",
              "12     9619.438377\n",
              "13    10416.536590\n",
              "14    10790.328720\n",
              "15    11018.955850\n",
              "16    11482.891530\n",
              "17    12974.806620\n",
              "18    15080.283450\n",
              "19    16426.725480\n",
              "20    16838.673200\n",
              "21    17266.097690\n",
              "22    16412.083090\n",
              "23    15875.586730\n",
              "24    15755.820270\n",
              "25    16369.317250\n",
              "26    16699.826680\n",
              "27    17310.757750\n",
              "28    16622.671870\n",
              "29    17581.024140\n",
              "30    18987.382410\n",
              "31    18601.397240\n",
              "32    19232.175560\n",
              "33    22739.426280\n",
              "34    25719.147150\n",
              "35    29198.055690\n",
              "36    32738.262900\n",
              "37    36144.481220\n",
              "38    37446.486090\n",
              "39    32755.176820\n",
              "40    38420.522890\n",
              "41    42334.711210\n",
              "42    42665.255970\n",
              "43    42676.468370\n",
              "44    41039.893600\n",
              "45    35175.188980\n",
              "46    34229.193630\n",
              "Name: percapitaincome, dtype: float64"
            ]
          },
          "metadata": {
            "tags": []
          },
          "execution_count": 34
        }
      ]
    },
    {
      "cell_type": "code",
      "metadata": {
        "colab": {
          "base_uri": "https://localhost:8080/"
        },
        "id": "O0fsd2cUzseC",
        "outputId": "517860b3-dcb6-45aa-882a-b33b6182413c"
      },
      "source": [
        "reg=linear_model.LinearRegression()\n",
        "reg.fit(df1,df2)"
      ],
      "execution_count": null,
      "outputs": [
        {
          "output_type": "execute_result",
          "data": {
            "text/plain": [
              "LinearRegression(copy_X=True, fit_intercept=True, n_jobs=None, normalize=False)"
            ]
          },
          "metadata": {
            "tags": []
          },
          "execution_count": 41
        }
      ]
    },
    {
      "cell_type": "code",
      "metadata": {
        "colab": {
          "base_uri": "https://localhost:8080/"
        },
        "id": "MSBwNPcj1tn5",
        "outputId": "c048ca1c-6a15-471d-8307-9147150d1db8"
      },
      "source": [
        "reg.predict([[2020]])"
      ],
      "execution_count": null,
      "outputs": [
        {
          "output_type": "execute_result",
          "data": {
            "text/plain": [
              "array([41288.69409442])"
            ]
          },
          "metadata": {
            "tags": []
          },
          "execution_count": 45
        }
      ]
    },
    {
      "cell_type": "code",
      "metadata": {
        "colab": {
          "base_uri": "https://localhost:8080/"
        },
        "id": "6gfsj2St1tzt",
        "outputId": "d0931219-8189-4fb0-cb9c-6d8b7cbb1b08"
      },
      "source": [
        "reg.coef_"
      ],
      "execution_count": null,
      "outputs": [
        {
          "output_type": "execute_result",
          "data": {
            "text/plain": [
              "array([828.46507522])"
            ]
          },
          "metadata": {
            "tags": []
          },
          "execution_count": 43
        }
      ]
    },
    {
      "cell_type": "code",
      "metadata": {
        "colab": {
          "base_uri": "https://localhost:8080/"
        },
        "id": "c3Pc8j1w2pDe",
        "outputId": "02ab5d36-dd35-4bf1-ee14-fde79f541758"
      },
      "source": [
        "reg.intercept_"
      ],
      "execution_count": null,
      "outputs": [
        {
          "output_type": "execute_result",
          "data": {
            "text/plain": [
              "-1632210.7578554575"
            ]
          },
          "metadata": {
            "tags": []
          },
          "execution_count": 44
        }
      ]
    },
    {
      "cell_type": "code",
      "metadata": {
        "colab": {
          "base_uri": "https://localhost:8080/",
          "height": 282
        },
        "id": "6QvfgGBQ2r6j",
        "outputId": "19015405-b8d9-46a2-9aa5-b73f9fcffbbe"
      },
      "source": [
        "plt.scatter(df.year,df.percapitaincome,color='red')\n",
        "plt.plot(df.year,reg.predict(df[['year']]),color='blue')"
      ],
      "execution_count": null,
      "outputs": [
        {
          "output_type": "execute_result",
          "data": {
            "text/plain": [
              "[<matplotlib.lines.Line2D at 0x7fd3bd378050>]"
            ]
          },
          "metadata": {
            "tags": []
          },
          "execution_count": 52
        },
        {
          "output_type": "display_data",
          "data": {
            "image/png": "[encoded data removed]",
            "text/plain": [
              "<Figure size 432x288 with 1 Axes>"
            ]
          },
          "metadata": {
            "tags": [],
            "needs_background": "light"
          }
        }
      ]
    }
  ]
}